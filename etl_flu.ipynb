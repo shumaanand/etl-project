{
 "cells": [
  {
   "cell_type": "code",
   "execution_count": 34,
   "metadata": {},
   "outputs": [],
   "source": [
    "# Dependencies\n",
    "import pandas as pd"
   ]
  },
  {
   "cell_type": "code",
   "execution_count": 35,
   "metadata": {},
   "outputs": [],
   "source": [
    "# Read our Data file with the pandas library\n",
    "ca_flu_data_df = pd.read_csv(\"flu_ca_csv.csv\")"
   ]
  },
  {
   "cell_type": "code",
   "execution_count": 38,
   "metadata": {},
   "outputs": [
    {
     "output_type": "execute_result",
     "data": {
      "text/plain": "  REGION TYPE      REGION  YEAR  WEEK  TOTAL SPECIMENS  TOTAL A  TOTAL B  \\\n0      States  California  2019    40             1776       18       10   \n1      States  California  2019    41             1887       26       11   \n2      States  California  2019    42             1995       27       14   \n3      States  California  2019    43             1964       24       33   \n4      States  California  2019    44             2061       44       56   \n\n   PERCENT POSITIVE  PERCENT A  PERCENT B  \n0              1.58       1.01       0.56  \n1              1.96       1.38       0.58  \n2              2.06       1.35       0.70  \n3              2.90       1.22       1.68  \n4              4.85       2.13       2.72  ",
      "text/html": "<div>\n<style scoped>\n    .dataframe tbody tr th:only-of-type {\n        vertical-align: middle;\n    }\n\n    .dataframe tbody tr th {\n        vertical-align: top;\n    }\n\n    .dataframe thead th {\n        text-align: right;\n    }\n</style>\n<table border=\"1\" class=\"dataframe\">\n  <thead>\n    <tr style=\"text-align: right;\">\n      <th></th>\n      <th>REGION TYPE</th>\n      <th>REGION</th>\n      <th>YEAR</th>\n      <th>WEEK</th>\n      <th>TOTAL SPECIMENS</th>\n      <th>TOTAL A</th>\n      <th>TOTAL B</th>\n      <th>PERCENT POSITIVE</th>\n      <th>PERCENT A</th>\n      <th>PERCENT B</th>\n    </tr>\n  </thead>\n  <tbody>\n    <tr>\n      <th>0</th>\n      <td>States</td>\n      <td>California</td>\n      <td>2019</td>\n      <td>40</td>\n      <td>1776</td>\n      <td>18</td>\n      <td>10</td>\n      <td>1.58</td>\n      <td>1.01</td>\n      <td>0.56</td>\n    </tr>\n    <tr>\n      <th>1</th>\n      <td>States</td>\n      <td>California</td>\n      <td>2019</td>\n      <td>41</td>\n      <td>1887</td>\n      <td>26</td>\n      <td>11</td>\n      <td>1.96</td>\n      <td>1.38</td>\n      <td>0.58</td>\n    </tr>\n    <tr>\n      <th>2</th>\n      <td>States</td>\n      <td>California</td>\n      <td>2019</td>\n      <td>42</td>\n      <td>1995</td>\n      <td>27</td>\n      <td>14</td>\n      <td>2.06</td>\n      <td>1.35</td>\n      <td>0.70</td>\n    </tr>\n    <tr>\n      <th>3</th>\n      <td>States</td>\n      <td>California</td>\n      <td>2019</td>\n      <td>43</td>\n      <td>1964</td>\n      <td>24</td>\n      <td>33</td>\n      <td>2.90</td>\n      <td>1.22</td>\n      <td>1.68</td>\n    </tr>\n    <tr>\n      <th>4</th>\n      <td>States</td>\n      <td>California</td>\n      <td>2019</td>\n      <td>44</td>\n      <td>2061</td>\n      <td>44</td>\n      <td>56</td>\n      <td>4.85</td>\n      <td>2.13</td>\n      <td>2.72</td>\n    </tr>\n  </tbody>\n</table>\n</div>"
     },
     "metadata": {},
     "execution_count": 38
    }
   ],
   "source": [
    "ca_flu_data_df.head()"
   ]
  },
  {
   "cell_type": "code",
   "execution_count": 40,
   "metadata": {},
   "outputs": [
    {
     "output_type": "execute_result",
     "data": {
      "text/plain": "   REGION TYPE      REGION  YEAR  WEEK  TOTAL SPECIMENS  TOTAL A  TOTAL B  \\\n15      States  California  2020     3             5378     1043      666   \n16      States  California  2020     4             5835     1254      640   \n17      States  California  2020     5             6118     1328      553   \n18      States  California  2020     6             5778     1161      448   \n19      States  California  2020     7             5626     1238      400   \n20      States  California  2020     8             4833     1001      329   \n21      States  California  2020     9             5115      951      303   \n22      States  California  2020    10             5099      764      259   \n23      States  California  2020    11             5073      399      106   \n24      States  California  2020    12             2944       67       20   \n25      States  California  2020    13             1736       10        3   \n26      States  California  2020    14             1162        6        3   \n27      States  California  2020    15              842        1        2   \n28      States  California  2020    16              784        0        0   \n29      States  California  2020    17              681        1        0   \n30      States  California  2020    18              470        0        0   \n31      States  California  2020    19              436        0        0   \n32      States  California  2020    20              399        1        0   \n33      States  California  2020    21              354        0        0   \n34      States  California  2020    22              257        0        0   \n35      States  California  2020    23              270        0        0   \n36      States  California  2020    24              277        0        0   \n37      States  California  2020    25              180        0        0   \n38      States  California  2020    26               88        0        0   \n\n    PERCENT POSITIVE  PERCENT A  PERCENT B  \n15             31.78      19.39      12.38  \n16             32.46      21.49      10.97  \n17             30.75      21.71       9.04  \n18             27.85      20.09       7.75  \n19             29.11      22.00       7.11  \n20             27.52      20.71       6.81  \n21             24.52      18.59       5.92  \n22             20.06      14.98       5.08  \n23              9.95       7.87       2.09  \n24              2.96       2.28       0.68  \n25              0.75       0.58       0.17  \n26              0.77       0.52       0.26  \n27              0.36       0.12       0.24  \n28              0.00       0.00       0.00  \n29              0.15       0.15       0.00  \n30              0.00       0.00       0.00  \n31              0.00       0.00       0.00  \n32              0.25       0.25       0.00  \n33              0.00       0.00       0.00  \n34              0.00       0.00       0.00  \n35              0.00       0.00       0.00  \n36              0.00       0.00       0.00  \n37              0.00       0.00       0.00  \n38              0.00       0.00       0.00  ",
      "text/html": "<div>\n<style scoped>\n    .dataframe tbody tr th:only-of-type {\n        vertical-align: middle;\n    }\n\n    .dataframe tbody tr th {\n        vertical-align: top;\n    }\n\n    .dataframe thead th {\n        text-align: right;\n    }\n</style>\n<table border=\"1\" class=\"dataframe\">\n  <thead>\n    <tr style=\"text-align: right;\">\n      <th></th>\n      <th>REGION TYPE</th>\n      <th>REGION</th>\n      <th>YEAR</th>\n      <th>WEEK</th>\n      <th>TOTAL SPECIMENS</th>\n      <th>TOTAL A</th>\n      <th>TOTAL B</th>\n      <th>PERCENT POSITIVE</th>\n      <th>PERCENT A</th>\n      <th>PERCENT B</th>\n    </tr>\n  </thead>\n  <tbody>\n    <tr>\n      <th>15</th>\n      <td>States</td>\n      <td>California</td>\n      <td>2020</td>\n      <td>3</td>\n      <td>5378</td>\n      <td>1043</td>\n      <td>666</td>\n      <td>31.78</td>\n      <td>19.39</td>\n      <td>12.38</td>\n    </tr>\n    <tr>\n      <th>16</th>\n      <td>States</td>\n      <td>California</td>\n      <td>2020</td>\n      <td>4</td>\n      <td>5835</td>\n      <td>1254</td>\n      <td>640</td>\n      <td>32.46</td>\n      <td>21.49</td>\n      <td>10.97</td>\n    </tr>\n    <tr>\n      <th>17</th>\n      <td>States</td>\n      <td>California</td>\n      <td>2020</td>\n      <td>5</td>\n      <td>6118</td>\n      <td>1328</td>\n      <td>553</td>\n      <td>30.75</td>\n      <td>21.71</td>\n      <td>9.04</td>\n    </tr>\n    <tr>\n      <th>18</th>\n      <td>States</td>\n      <td>California</td>\n      <td>2020</td>\n      <td>6</td>\n      <td>5778</td>\n      <td>1161</td>\n      <td>448</td>\n      <td>27.85</td>\n      <td>20.09</td>\n      <td>7.75</td>\n    </tr>\n    <tr>\n      <th>19</th>\n      <td>States</td>\n      <td>California</td>\n      <td>2020</td>\n      <td>7</td>\n      <td>5626</td>\n      <td>1238</td>\n      <td>400</td>\n      <td>29.11</td>\n      <td>22.00</td>\n      <td>7.11</td>\n    </tr>\n    <tr>\n      <th>20</th>\n      <td>States</td>\n      <td>California</td>\n      <td>2020</td>\n      <td>8</td>\n      <td>4833</td>\n      <td>1001</td>\n      <td>329</td>\n      <td>27.52</td>\n      <td>20.71</td>\n      <td>6.81</td>\n    </tr>\n    <tr>\n      <th>21</th>\n      <td>States</td>\n      <td>California</td>\n      <td>2020</td>\n      <td>9</td>\n      <td>5115</td>\n      <td>951</td>\n      <td>303</td>\n      <td>24.52</td>\n      <td>18.59</td>\n      <td>5.92</td>\n    </tr>\n    <tr>\n      <th>22</th>\n      <td>States</td>\n      <td>California</td>\n      <td>2020</td>\n      <td>10</td>\n      <td>5099</td>\n      <td>764</td>\n      <td>259</td>\n      <td>20.06</td>\n      <td>14.98</td>\n      <td>5.08</td>\n    </tr>\n    <tr>\n      <th>23</th>\n      <td>States</td>\n      <td>California</td>\n      <td>2020</td>\n      <td>11</td>\n      <td>5073</td>\n      <td>399</td>\n      <td>106</td>\n      <td>9.95</td>\n      <td>7.87</td>\n      <td>2.09</td>\n    </tr>\n    <tr>\n      <th>24</th>\n      <td>States</td>\n      <td>California</td>\n      <td>2020</td>\n      <td>12</td>\n      <td>2944</td>\n      <td>67</td>\n      <td>20</td>\n      <td>2.96</td>\n      <td>2.28</td>\n      <td>0.68</td>\n    </tr>\n    <tr>\n      <th>25</th>\n      <td>States</td>\n      <td>California</td>\n      <td>2020</td>\n      <td>13</td>\n      <td>1736</td>\n      <td>10</td>\n      <td>3</td>\n      <td>0.75</td>\n      <td>0.58</td>\n      <td>0.17</td>\n    </tr>\n    <tr>\n      <th>26</th>\n      <td>States</td>\n      <td>California</td>\n      <td>2020</td>\n      <td>14</td>\n      <td>1162</td>\n      <td>6</td>\n      <td>3</td>\n      <td>0.77</td>\n      <td>0.52</td>\n      <td>0.26</td>\n    </tr>\n    <tr>\n      <th>27</th>\n      <td>States</td>\n      <td>California</td>\n      <td>2020</td>\n      <td>15</td>\n      <td>842</td>\n      <td>1</td>\n      <td>2</td>\n      <td>0.36</td>\n      <td>0.12</td>\n      <td>0.24</td>\n    </tr>\n    <tr>\n      <th>28</th>\n      <td>States</td>\n      <td>California</td>\n      <td>2020</td>\n      <td>16</td>\n      <td>784</td>\n      <td>0</td>\n      <td>0</td>\n      <td>0.00</td>\n      <td>0.00</td>\n      <td>0.00</td>\n    </tr>\n    <tr>\n      <th>29</th>\n      <td>States</td>\n      <td>California</td>\n      <td>2020</td>\n      <td>17</td>\n      <td>681</td>\n      <td>1</td>\n      <td>0</td>\n      <td>0.15</td>\n      <td>0.15</td>\n      <td>0.00</td>\n    </tr>\n    <tr>\n      <th>30</th>\n      <td>States</td>\n      <td>California</td>\n      <td>2020</td>\n      <td>18</td>\n      <td>470</td>\n      <td>0</td>\n      <td>0</td>\n      <td>0.00</td>\n      <td>0.00</td>\n      <td>0.00</td>\n    </tr>\n    <tr>\n      <th>31</th>\n      <td>States</td>\n      <td>California</td>\n      <td>2020</td>\n      <td>19</td>\n      <td>436</td>\n      <td>0</td>\n      <td>0</td>\n      <td>0.00</td>\n      <td>0.00</td>\n      <td>0.00</td>\n    </tr>\n    <tr>\n      <th>32</th>\n      <td>States</td>\n      <td>California</td>\n      <td>2020</td>\n      <td>20</td>\n      <td>399</td>\n      <td>1</td>\n      <td>0</td>\n      <td>0.25</td>\n      <td>0.25</td>\n      <td>0.00</td>\n    </tr>\n    <tr>\n      <th>33</th>\n      <td>States</td>\n      <td>California</td>\n      <td>2020</td>\n      <td>21</td>\n      <td>354</td>\n      <td>0</td>\n      <td>0</td>\n      <td>0.00</td>\n      <td>0.00</td>\n      <td>0.00</td>\n    </tr>\n    <tr>\n      <th>34</th>\n      <td>States</td>\n      <td>California</td>\n      <td>2020</td>\n      <td>22</td>\n      <td>257</td>\n      <td>0</td>\n      <td>0</td>\n      <td>0.00</td>\n      <td>0.00</td>\n      <td>0.00</td>\n    </tr>\n    <tr>\n      <th>35</th>\n      <td>States</td>\n      <td>California</td>\n      <td>2020</td>\n      <td>23</td>\n      <td>270</td>\n      <td>0</td>\n      <td>0</td>\n      <td>0.00</td>\n      <td>0.00</td>\n      <td>0.00</td>\n    </tr>\n    <tr>\n      <th>36</th>\n      <td>States</td>\n      <td>California</td>\n      <td>2020</td>\n      <td>24</td>\n      <td>277</td>\n      <td>0</td>\n      <td>0</td>\n      <td>0.00</td>\n      <td>0.00</td>\n      <td>0.00</td>\n    </tr>\n    <tr>\n      <th>37</th>\n      <td>States</td>\n      <td>California</td>\n      <td>2020</td>\n      <td>25</td>\n      <td>180</td>\n      <td>0</td>\n      <td>0</td>\n      <td>0.00</td>\n      <td>0.00</td>\n      <td>0.00</td>\n    </tr>\n    <tr>\n      <th>38</th>\n      <td>States</td>\n      <td>California</td>\n      <td>2020</td>\n      <td>26</td>\n      <td>88</td>\n      <td>0</td>\n      <td>0</td>\n      <td>0.00</td>\n      <td>0.00</td>\n      <td>0.00</td>\n    </tr>\n  </tbody>\n</table>\n</div>"
     },
     "metadata": {},
     "execution_count": 40
    }
   ],
   "source": [
    "# we only want year 2020 week 3 ~ 26 (with repect to Covid data week 3 ~ 26)\n",
    "ca_flu_data_df = ca_flu_data_df[(ca_flu_data_df.YEAR>2019) & \n",
    "                                (ca_flu_data_df.WEEK>2) & \n",
    "                                (ca_flu_data_df.WEEK<27) &\n",
    "                                (ca_flu_data_df.REGION==\"California\")]\n",
    "ca_flu_data_df"
   ]
  },
  {
   "cell_type": "code",
   "execution_count": 42,
   "metadata": {},
   "outputs": [
    {
     "output_type": "execute_result",
     "data": {
      "text/plain": "        REGION  YEAR  WEEK  TOTAL SPECIMENS\n0   California  2020     3             5378\n1   California  2020     4             5835\n2   California  2020     5             6118\n3   California  2020     6             5778\n4   California  2020     7             5626\n5   California  2020     8             4833\n6   California  2020     9             5115\n7   California  2020    10             5099\n8   California  2020    11             5073\n9   California  2020    12             2944\n10  California  2020    13             1736\n11  California  2020    14             1162\n12  California  2020    15              842\n13  California  2020    16              784\n14  California  2020    17              681\n15  California  2020    18              470\n16  California  2020    19              436\n17  California  2020    20              399\n18  California  2020    21              354\n19  California  2020    22              257\n20  California  2020    23              270\n21  California  2020    24              277\n22  California  2020    25              180\n23  California  2020    26               88",
      "text/html": "<div>\n<style scoped>\n    .dataframe tbody tr th:only-of-type {\n        vertical-align: middle;\n    }\n\n    .dataframe tbody tr th {\n        vertical-align: top;\n    }\n\n    .dataframe thead th {\n        text-align: right;\n    }\n</style>\n<table border=\"1\" class=\"dataframe\">\n  <thead>\n    <tr style=\"text-align: right;\">\n      <th></th>\n      <th>REGION</th>\n      <th>YEAR</th>\n      <th>WEEK</th>\n      <th>TOTAL SPECIMENS</th>\n    </tr>\n  </thead>\n  <tbody>\n    <tr>\n      <th>0</th>\n      <td>California</td>\n      <td>2020</td>\n      <td>3</td>\n      <td>5378</td>\n    </tr>\n    <tr>\n      <th>1</th>\n      <td>California</td>\n      <td>2020</td>\n      <td>4</td>\n      <td>5835</td>\n    </tr>\n    <tr>\n      <th>2</th>\n      <td>California</td>\n      <td>2020</td>\n      <td>5</td>\n      <td>6118</td>\n    </tr>\n    <tr>\n      <th>3</th>\n      <td>California</td>\n      <td>2020</td>\n      <td>6</td>\n      <td>5778</td>\n    </tr>\n    <tr>\n      <th>4</th>\n      <td>California</td>\n      <td>2020</td>\n      <td>7</td>\n      <td>5626</td>\n    </tr>\n    <tr>\n      <th>5</th>\n      <td>California</td>\n      <td>2020</td>\n      <td>8</td>\n      <td>4833</td>\n    </tr>\n    <tr>\n      <th>6</th>\n      <td>California</td>\n      <td>2020</td>\n      <td>9</td>\n      <td>5115</td>\n    </tr>\n    <tr>\n      <th>7</th>\n      <td>California</td>\n      <td>2020</td>\n      <td>10</td>\n      <td>5099</td>\n    </tr>\n    <tr>\n      <th>8</th>\n      <td>California</td>\n      <td>2020</td>\n      <td>11</td>\n      <td>5073</td>\n    </tr>\n    <tr>\n      <th>9</th>\n      <td>California</td>\n      <td>2020</td>\n      <td>12</td>\n      <td>2944</td>\n    </tr>\n    <tr>\n      <th>10</th>\n      <td>California</td>\n      <td>2020</td>\n      <td>13</td>\n      <td>1736</td>\n    </tr>\n    <tr>\n      <th>11</th>\n      <td>California</td>\n      <td>2020</td>\n      <td>14</td>\n      <td>1162</td>\n    </tr>\n    <tr>\n      <th>12</th>\n      <td>California</td>\n      <td>2020</td>\n      <td>15</td>\n      <td>842</td>\n    </tr>\n    <tr>\n      <th>13</th>\n      <td>California</td>\n      <td>2020</td>\n      <td>16</td>\n      <td>784</td>\n    </tr>\n    <tr>\n      <th>14</th>\n      <td>California</td>\n      <td>2020</td>\n      <td>17</td>\n      <td>681</td>\n    </tr>\n    <tr>\n      <th>15</th>\n      <td>California</td>\n      <td>2020</td>\n      <td>18</td>\n      <td>470</td>\n    </tr>\n    <tr>\n      <th>16</th>\n      <td>California</td>\n      <td>2020</td>\n      <td>19</td>\n      <td>436</td>\n    </tr>\n    <tr>\n      <th>17</th>\n      <td>California</td>\n      <td>2020</td>\n      <td>20</td>\n      <td>399</td>\n    </tr>\n    <tr>\n      <th>18</th>\n      <td>California</td>\n      <td>2020</td>\n      <td>21</td>\n      <td>354</td>\n    </tr>\n    <tr>\n      <th>19</th>\n      <td>California</td>\n      <td>2020</td>\n      <td>22</td>\n      <td>257</td>\n    </tr>\n    <tr>\n      <th>20</th>\n      <td>California</td>\n      <td>2020</td>\n      <td>23</td>\n      <td>270</td>\n    </tr>\n    <tr>\n      <th>21</th>\n      <td>California</td>\n      <td>2020</td>\n      <td>24</td>\n      <td>277</td>\n    </tr>\n    <tr>\n      <th>22</th>\n      <td>California</td>\n      <td>2020</td>\n      <td>25</td>\n      <td>180</td>\n    </tr>\n    <tr>\n      <th>23</th>\n      <td>California</td>\n      <td>2020</td>\n      <td>26</td>\n      <td>88</td>\n    </tr>\n  </tbody>\n</table>\n</div>"
     },
     "metadata": {},
     "execution_count": 42
    }
   ],
   "source": [
    "# Removing column from table - no longer required\n",
    "ca_flu_data_clean_df = ca_flu_data_df.drop(columns=['REGION TYPE', \n",
    "                                                    'TOTAL A', \n",
    "                                                    'TOTAL B', \n",
    "                                                    'PERCENT POSITIVE', \n",
    "                                                    'PERCENT A', \n",
    "                                                    'PERCENT B'])\n",
    "\n",
    "# then sort according to column 'year' then 'week' both in ascending order\n",
    "ca_flu_data_clean_df.sort_values(['YEAR', 'WEEK'], ascending=[True, True], \n",
    "                                 ignore_index=True, na_position='first', inplace=True)\n",
    "\n",
    "ca_flu_data_clean_df"
   ]
  },
  {
   "cell_type": "code",
   "execution_count": 43,
   "metadata": {},
   "outputs": [
    {
     "output_type": "execute_result",
     "data": {
      "text/plain": "    week  year  flu_cases       state\n0      3  2020       5378  California\n1      4  2020       5835  California\n2      5  2020       6118  California\n3      6  2020       5778  California\n4      7  2020       5626  California\n5      8  2020       4833  California\n6      9  2020       5115  California\n7     10  2020       5099  California\n8     11  2020       5073  California\n9     12  2020       2944  California\n10    13  2020       1736  California\n11    14  2020       1162  California\n12    15  2020        842  California\n13    16  2020        784  California\n14    17  2020        681  California\n15    18  2020        470  California\n16    19  2020        436  California\n17    20  2020        399  California\n18    21  2020        354  California\n19    22  2020        257  California\n20    23  2020        270  California\n21    24  2020        277  California\n22    25  2020        180  California\n23    26  2020         88  California",
      "text/html": "<div>\n<style scoped>\n    .dataframe tbody tr th:only-of-type {\n        vertical-align: middle;\n    }\n\n    .dataframe tbody tr th {\n        vertical-align: top;\n    }\n\n    .dataframe thead th {\n        text-align: right;\n    }\n</style>\n<table border=\"1\" class=\"dataframe\">\n  <thead>\n    <tr style=\"text-align: right;\">\n      <th></th>\n      <th>week</th>\n      <th>year</th>\n      <th>flu_cases</th>\n      <th>state</th>\n    </tr>\n  </thead>\n  <tbody>\n    <tr>\n      <th>0</th>\n      <td>3</td>\n      <td>2020</td>\n      <td>5378</td>\n      <td>California</td>\n    </tr>\n    <tr>\n      <th>1</th>\n      <td>4</td>\n      <td>2020</td>\n      <td>5835</td>\n      <td>California</td>\n    </tr>\n    <tr>\n      <th>2</th>\n      <td>5</td>\n      <td>2020</td>\n      <td>6118</td>\n      <td>California</td>\n    </tr>\n    <tr>\n      <th>3</th>\n      <td>6</td>\n      <td>2020</td>\n      <td>5778</td>\n      <td>California</td>\n    </tr>\n    <tr>\n      <th>4</th>\n      <td>7</td>\n      <td>2020</td>\n      <td>5626</td>\n      <td>California</td>\n    </tr>\n    <tr>\n      <th>5</th>\n      <td>8</td>\n      <td>2020</td>\n      <td>4833</td>\n      <td>California</td>\n    </tr>\n    <tr>\n      <th>6</th>\n      <td>9</td>\n      <td>2020</td>\n      <td>5115</td>\n      <td>California</td>\n    </tr>\n    <tr>\n      <th>7</th>\n      <td>10</td>\n      <td>2020</td>\n      <td>5099</td>\n      <td>California</td>\n    </tr>\n    <tr>\n      <th>8</th>\n      <td>11</td>\n      <td>2020</td>\n      <td>5073</td>\n      <td>California</td>\n    </tr>\n    <tr>\n      <th>9</th>\n      <td>12</td>\n      <td>2020</td>\n      <td>2944</td>\n      <td>California</td>\n    </tr>\n    <tr>\n      <th>10</th>\n      <td>13</td>\n      <td>2020</td>\n      <td>1736</td>\n      <td>California</td>\n    </tr>\n    <tr>\n      <th>11</th>\n      <td>14</td>\n      <td>2020</td>\n      <td>1162</td>\n      <td>California</td>\n    </tr>\n    <tr>\n      <th>12</th>\n      <td>15</td>\n      <td>2020</td>\n      <td>842</td>\n      <td>California</td>\n    </tr>\n    <tr>\n      <th>13</th>\n      <td>16</td>\n      <td>2020</td>\n      <td>784</td>\n      <td>California</td>\n    </tr>\n    <tr>\n      <th>14</th>\n      <td>17</td>\n      <td>2020</td>\n      <td>681</td>\n      <td>California</td>\n    </tr>\n    <tr>\n      <th>15</th>\n      <td>18</td>\n      <td>2020</td>\n      <td>470</td>\n      <td>California</td>\n    </tr>\n    <tr>\n      <th>16</th>\n      <td>19</td>\n      <td>2020</td>\n      <td>436</td>\n      <td>California</td>\n    </tr>\n    <tr>\n      <th>17</th>\n      <td>20</td>\n      <td>2020</td>\n      <td>399</td>\n      <td>California</td>\n    </tr>\n    <tr>\n      <th>18</th>\n      <td>21</td>\n      <td>2020</td>\n      <td>354</td>\n      <td>California</td>\n    </tr>\n    <tr>\n      <th>19</th>\n      <td>22</td>\n      <td>2020</td>\n      <td>257</td>\n      <td>California</td>\n    </tr>\n    <tr>\n      <th>20</th>\n      <td>23</td>\n      <td>2020</td>\n      <td>270</td>\n      <td>California</td>\n    </tr>\n    <tr>\n      <th>21</th>\n      <td>24</td>\n      <td>2020</td>\n      <td>277</td>\n      <td>California</td>\n    </tr>\n    <tr>\n      <th>22</th>\n      <td>25</td>\n      <td>2020</td>\n      <td>180</td>\n      <td>California</td>\n    </tr>\n    <tr>\n      <th>23</th>\n      <td>26</td>\n      <td>2020</td>\n      <td>88</td>\n      <td>California</td>\n    </tr>\n  </tbody>\n</table>\n</div>"
     },
     "metadata": {},
     "execution_count": 43
    }
   ],
   "source": [
    "# rename columns\n",
    "ca_flu_data_clean_df.columns = ['state', 'year', 'week', 'flu_cases']\n",
    "# rearrange columns order\n",
    "ca_flu_data_clean_df = ca_flu_data_clean_df[['week', 'year', 'flu_cases', 'state']]\n",
    "ca_flu_data_clean_df"
   ]
  },
  {
   "cell_type": "code",
   "execution_count": 45,
   "metadata": {},
   "outputs": [],
   "source": [
    "# Export file as a CSV, without the Pandas index, but with the header\n",
    "ca_flu_data_clean_df.to_csv(\"FLU_cleaned_data.csv\", index=False, header=True )"
   ]
  },
  {
   "cell_type": "code",
   "execution_count": null,
   "metadata": {},
   "outputs": [],
   "source": []
  }
 ],
 "metadata": {
  "anaconda-cloud": {},
  "kernelspec": {
   "display_name": "Python 3",
   "language": "python",
   "name": "python3"
  },
  "language_info": {
   "codemirror_mode": {
    "name": "ipython",
    "version": 3
   },
   "file_extension": ".py",
   "mimetype": "text/x-python",
   "name": "python",
   "nbconvert_exporter": "python",
   "pygments_lexer": "ipython3",
   "version": "3.7.6-final"
  }
 },
 "nbformat": 4,
 "nbformat_minor": 2
}